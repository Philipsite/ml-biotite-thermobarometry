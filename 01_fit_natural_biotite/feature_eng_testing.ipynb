{
 "cells": [
  {
   "cell_type": "markdown",
   "metadata": {},
   "source": [
    ":warning:**IMPORTANT NOTICE**:warning:\\\n",
    "*Since the initial parameterisation and gradient descent optimisation are stochastic processes, the training of a neural network is not fully reproducible.*\n",
    "\n",
    "*Therefore, it is not recommended to re-run this script as it will overwrite the original calibration of the neural network used in the work presented here.\n",
    "The purpose of this script is solely to document the training procedure and can be copied as a template to fit other new neural networks.*\n",
    "\n",
    "*To experiment with the models calibrated here, they can be loaded from the `saved_models` directory.*"
   ]
  },
  {
   "cell_type": "markdown",
   "metadata": {},
   "source": [
    "# Systematic assesment of different features used to train a ML-thermobarometer\n",
    "\n",
    "The following sets of features are tested:\n",
    "\n",
    "## Ti-XMg thermometer (Henry, 2005)\n",
    "\n",
    "- Ti\n",
    "- Mg\n",
    "- Fe\n",
    "\n",
    "The last two as XMg.\n",
    "\n",
    "### Full EPMA analysis\n",
    "\n",
    "All element easily measured by EPMA are used as input features. These are:\n",
    "- Si\n",
    "- Ti\n",
    "- Al\n",
    "- Fe\n",
    "- Mn\n",
    "- Mg\n",
    "- Na\n",
    "- K\n",
    "\n",
    "Ca is omitted, as it can be easily measured by EPMA, but is 0 or NaN in a big part of the dataset. Can Ca not e incorporated into biotite ?!\n",
    "\n",
    "This dataset is a bit smaller than the full dataset, as the analysis with no Na measurements hav been removed.\n",
    "\n",
    "### Elements in biotite endmember (in PEM solid solution)\n",
    "\n",
    "Elements which can be incorporated into biotite by an endmember substitution in the newest set of thermodynmic data are considered. This approach is used to assure a consistent set of elements in simulated biotite compositions used to prime ML models and the natural data.\\\n",
    "Elements with corresponding endmember substitutions are:\n",
    "- Si (Tschermak substitution in Eastonite <-> Phlogopite-Annite)\n",
    "- Ti (Ti substitution with Ti-biotite vie deprotonation)\n",
    "- Al (Teschermak substitution in Eastonite <-> Phlogopite-Annite)\n",
    "- Fe (Fe-Mg substitution in Phlogopite-Annite)\n",
    "- Mg (Fe-Mg substitution in Phlogopite-Annite)\n",
    "- Mn (Mn-(Mg, Fe) substitution in Phlogopite-Annite <-> Mn-biotite)\n",
    "\n",
    "### Elements in biotite endmember (in PEM solid solution), but considering Fe2+ and Fe3+ separately\n",
    "The Fe content in biotite is split into Fe2+ and Fe3+ using the estimated XFe3+ (based on the assemblage no Fe-Ox/Ilm/Mgt/Hem)\n",
    "\n",
    "- Si\n",
    "- Ti\n",
    "- Al\n",
    "- Fe2+\n",
    "- Fe3+\n",
    "- Mg\n",
    "- Mn\n",
    "\n",
    "### Elements in biotite endmember excluding Mn (FMAST)\n",
    "Pre-liminary tests have shown, that Mn might be a problematic input feature. We specaulate, that high Mn in Bt is preferentially controlled by the stabillity of garnet and posibly bulks effects.\\\n",
    "Since there is no widely known thermobarometric system, which uses Mn in biotite, excluding it could be benificial to prevent bias towards LT/LP by minor grt-free or high-Mn samples in the training set.\n",
    "\n",
    "- Si\n",
    "- Ti\n",
    "- Al\n",
    "- Fe\n",
    "- Mg\n",
    "\n",
    "\n",
    "### Elements in biotite endmember + Stable phases\n",
    "\n",
    "In addition to the elements in the biotite endmember, the stable phases coexisting with biotite can also be used as input features.\n",
    "\n",
    "I restrict the stable phases to the following \"index minerals\" in metapelites:\n",
    "- chlorite\n",
    "- garnet\n",
    "- cordierite\n",
    "- andalusite\n",
    "- staurolite\n",
    "- kyanite\n",
    "- sillimanite\n",
    "- k-feldspar\n",
    "\n",
    "**Additional stable phases**:\n",
    "\n",
    "Besides the \"index minerals\" Fe-Ti minerals are also tested if they can be valuable input features. These are:\n",
    "- ilmenite\n",
    "- rutile\n",
    "- titanite\n",
    "- magnetite\n",
    "- hematite\n",
    "\n",
    "## Test of *P* and *T* assignments\n",
    "\n",
    "With the data \"Elements in biotite endmember\" the effect of assinign *P* and *T* to the natural data is tested. The *P* and *T* assignments are done with the following methods:\n",
    "- Central estimate of *P* and *T* for the corresponding MAS / Zone\n",
    "- Random sampling form a uniform distribution of *P* and *T* within P-/T-uppper and lower bounds for the corresponding MAS / Zone\n",
    "- Random sampling from a uniform distribution of *P* and *T* within the P-/T-upper and lower bounds and additional ordering of the T estimates after Ti-in-biotite thermometry (Henry, 2005).\n",
    "\n",
    "## Neural network architecture\n",
    "\n",
    "All test are performed with an identical neural network architecture.\n",
    "This is done to try to isolate the effect of the input features on the performance of the neural network. However, the difference in the number of input neurons itself will already affect the network's parameterisation.\n",
    "\n",
    "### Hidden layers\n",
    "- 1 hidden layer with 16 neurons\n",
    "\n",
    "### Activation function\n",
    "- relu\n",
    "\n",
    "### Regularisation\n",
    "For these tests, a smell network is considered sufficient to avoid overfitting."
   ]
  },
  {
   "cell_type": "code",
   "execution_count": 1,
   "metadata": {},
   "outputs": [
    {
     "name": "stderr",
     "output_type": "stream",
     "text": [
      "C:\\Users\\ThinkPad\\AppData\\Local\\Temp\\ipykernel_6860\\861062914.py:2: DeprecationWarning: \n",
      "Pyarrow will become a required dependency of pandas in the next major release of pandas (pandas 3.0),\n",
      "(to allow more performant data types, such as the Arrow string type, and better interoperability with other libraries)\n",
      "but was not found to be installed on your system.\n",
      "If this would cause problems for you,\n",
      "please provide us feedback at https://github.com/pandas-dev/pandas/issues/54466\n",
      "        \n",
      "  import pandas as pd\n"
     ]
    },
    {
     "name": "stdout",
     "output_type": "stream",
     "text": [
      "WARNING:tensorflow:From c:\\Users\\ThinkPad\\miniconda3\\envs\\masterproject\\Lib\\site-packages\\keras\\src\\losses.py:2976: The name tf.losses.sparse_softmax_cross_entropy is deprecated. Please use tf.compat.v1.losses.sparse_softmax_cross_entropy instead.\n",
      "\n"
     ]
    }
   ],
   "source": [
    "import numpy as np\n",
    "import pandas as pd\n",
    "import matplotlib.pyplot as plt\n",
    "import seaborn as sns\n",
    "import tensorflow as tf\n",
    "import h5py\n",
    "\n",
    "from pathlib import Path\n",
    "from keras.models import Sequential\n",
    "from keras.layers import Dense, Normalization\n",
    "from keras.losses import MeanSquaredError\n",
    "from keras.optimizers import Adam, schedules\n",
    "from keras.metrics import MeanAbsoluteError, RootMeanSquaredError\n",
    "from keras.callbacks import CSVLogger, EarlyStopping\n",
    "from sklearn.model_selection import train_test_split\n",
    "\n",
    "from ml_tb.normalisation import MinMaxScaler\n",
    "from ml_tb.metrics import RMSE_denormalised_P, RMSE_denormalised_T, RMSE_denormalised_temperature_only"
   ]
  },
  {
   "cell_type": "markdown",
   "metadata": {},
   "source": [
    "## Import data, pre-procesing and train/test split\n",
    "\n",
    "Load the 4 different datasets and split them into training and validation sets.\n",
    "\n",
    "Validation set is **20%** of the training set. Approx. 200 samples."
   ]
  },
  {
   "cell_type": "code",
   "execution_count": 2,
   "metadata": {},
   "outputs": [],
   "source": [
    "VALIDATION_FRACTION = 0.2"
   ]
  },
  {
   "cell_type": "markdown",
   "metadata": {},
   "source": [
    "For the scaling of the P-T data, a MinMaxScaler is used.\n",
    "This scaler is defined globally and used for all datasets."
   ]
  },
  {
   "cell_type": "code",
   "execution_count": 3,
   "metadata": {},
   "outputs": [
    {
     "name": "stdout",
     "output_type": "stream",
     "text": [
      "WARNING:tensorflow:From c:\\Users\\ThinkPad\\miniconda3\\envs\\masterproject\\Lib\\site-packages\\keras\\src\\backend.py:873: The name tf.get_default_graph is deprecated. Please use tf.compat.v1.get_default_graph instead.\n",
      "\n"
     ]
    }
   ],
   "source": [
    "scaling_pt = MinMaxScaler(min=[1500, 400], max=[10000, 900], axis=0)\n",
    "inv_scaling_pt = MinMaxScaler(min=[1500, 400], max=[10000, 900], axis=0, invert=True)"
   ]
  },
  {
   "cell_type": "markdown",
   "metadata": {},
   "source": [
    "### **Dataset 0: Ti-XMg**"
   ]
  },
  {
   "cell_type": "code",
   "execution_count": 4,
   "metadata": {},
   "outputs": [
    {
     "name": "stdout",
     "output_type": "stream",
     "text": [
      "NaN values in biotite composition:  False\n",
      "NaN values in PT:  False\n"
     ]
    }
   ],
   "source": [
    "# load excel file\n",
    "data = pd.read_excel(Path(\"Metapelite-Database_Bt_CLEAN_2024-02-03.xlsx\"))\n",
    "\n",
    "biotite_composition = np.zeros(shape=(len(data), 2))\n",
    "biotite_composition[:, 0] = data[\"Bt-Ti\"]\n",
    "biotite_composition[:, 1] = data[\"Bt-XMg\"]\n",
    "\n",
    "\n",
    "pt = np.zeros(shape=(len(data), 2))\n",
    "pt[:, 0] = data[\"Pressure estimate random uniform\"] * 1000 # convert to bar\n",
    "pt[:, 1] = data[\"Temperature random ordered after Ti-in-Bt\"]\n",
    "\n",
    "# check for NaN values (should be already filtered out)\n",
    "print(\"NaN values in biotite composition: \", np.isnan(biotite_composition).any())\n",
    "print(\"NaN values in PT: \", np.isnan(pt).any())"
   ]
  },
  {
   "cell_type": "code",
   "execution_count": 5,
   "metadata": {},
   "outputs": [
    {
     "name": "stdout",
     "output_type": "stream",
     "text": [
      "[[0.12074334 0.49643874]]\n",
      "[[0.04852281 0.10346945]]\n",
      "After normalisation, the minimal value of P and T is:  [0.00218576 0.00066034]\n",
      "After normalisation, the maximal value of P and T is:  [0.940462  0.8988128]\n"
     ]
    }
   ],
   "source": [
    "# test train split\n",
    "DATA00_biotite_composition_train, DATA00_biotite_composition_val, DATA00_pt_train, DATA00_pt_val = train_test_split(biotite_composition, pt, test_size=VALIDATION_FRACTION, shuffle=True)\n",
    "\n",
    "DATA00_normalisation_biotite_composition = Normalization(axis=-1)\n",
    "DATA00_normalisation_biotite_composition.adapt(DATA00_biotite_composition_train)\n",
    "\n",
    "print(DATA00_normalisation_biotite_composition.mean.numpy())\n",
    "print(np.sqrt(DATA00_normalisation_biotite_composition.variance.numpy()))\n",
    "\n",
    "DATA00_pt_train_norm = scaling_pt(DATA00_pt_train)\n",
    "DATA00_pt_val_norm = scaling_pt(DATA00_pt_val)\n",
    "\n",
    "print(\"After normalisation, the minimal value of P and T is: \", DATA00_pt_train_norm.numpy().min(axis=0))\n",
    "print(\"After normalisation, the maximal value of P and T is: \", DATA00_pt_train_norm.numpy().max(axis=0))"
   ]
  },
  {
   "cell_type": "markdown",
   "metadata": {},
   "source": [
    "### **Dataset 1: Full EPMA analysis**"
   ]
  },
  {
   "cell_type": "code",
   "execution_count": 6,
   "metadata": {},
   "outputs": [
    {
     "name": "stdout",
     "output_type": "stream",
     "text": [
      "NaN values in biotite composition:  False\n",
      "NaN values in PT:  False\n"
     ]
    }
   ],
   "source": [
    "# load excel file\n",
    "data = pd.read_excel(Path(\"Metapelite-Database_Bt_CLEAN_InclBt-Na2024-02-16.xlsx\"))\n",
    "\n",
    "biotite_composition = np.zeros(shape=(len(data), 8))\n",
    "biotite_composition[:, 0] = data[\"Bt-Si\"]\n",
    "biotite_composition[:, 1] = data[\"Bt-Ti\"]\n",
    "biotite_composition[:, 2] = data[\"Bt-Al\"]\n",
    "biotite_composition[:, 3] = data[\"Bt-FeTot\"]\n",
    "biotite_composition[:, 4] = data[\"Bt-Mn\"]\n",
    "biotite_composition[:, 5] = data[\"Bt-Mg\"]\n",
    "biotite_composition[:, 6] = data[\"Bt-K\"]\n",
    "biotite_composition[:, 7] = data[\"Bt-Na\"]\n",
    "\n",
    "\n",
    "pt = np.zeros(shape=(len(data), 2))\n",
    "pt[:, 0] = data[\"Pressure estimate random uniform\"] * 1000 # convert to bar\n",
    "pt[:, 1] = data[\"Temperature random ordered after Ti-in-Bt\"]\n",
    "\n",
    "# check for NaN values (should be already filtered out)\n",
    "print(\"NaN values in biotite composition: \", np.isnan(biotite_composition).any())\n",
    "print(\"NaN values in PT: \", np.isnan(pt).any())"
   ]
  },
  {
   "cell_type": "code",
   "execution_count": 7,
   "metadata": {},
   "outputs": [
    {
     "name": "stdout",
     "output_type": "stream",
     "text": [
      "[[2.7067592  0.12068279 1.7125479  1.229531   0.00839963 1.0890671\n",
      "  0.8593252  0.03174109]]\n",
      "[[0.04788255 0.04785116 0.09206234 0.23546022 0.00729814 0.26658195\n",
      "  0.05551824 0.01666494]]\n",
      "After normalisation, the minimal value of P and T is:  [0.00225732 0.00789404]\n",
      "After normalisation, the maximal value of P and T is:  [0.9095139 0.8900758]\n"
     ]
    }
   ],
   "source": [
    "# test train split\n",
    "DATA01_biotite_composition_train, DATA01_biotite_composition_val, DATA01_pt_train, DATA01_pt_val = train_test_split(biotite_composition, pt, test_size=VALIDATION_FRACTION, shuffle=True)\n",
    "\n",
    "DATA01_normalisation_biotite_composition = Normalization(axis=-1)\n",
    "DATA01_normalisation_biotite_composition.adapt(DATA01_biotite_composition_train)\n",
    "\n",
    "print(DATA01_normalisation_biotite_composition.mean.numpy())\n",
    "print(np.sqrt(DATA01_normalisation_biotite_composition.variance.numpy()))\n",
    "\n",
    "DATA01_pt_train_norm = scaling_pt(DATA01_pt_train)\n",
    "DATA01_pt_val_norm = scaling_pt(DATA01_pt_val)\n",
    "\n",
    "print(\"After normalisation, the minimal value of P and T is: \", DATA01_pt_train_norm.numpy().min(axis=0))\n",
    "print(\"After normalisation, the maximal value of P and T is: \", DATA01_pt_train_norm.numpy().max(axis=0))"
   ]
  },
  {
   "cell_type": "markdown",
   "metadata": {},
   "source": [
    "### **Dataset 2: Elements in biotite solution model**\n"
   ]
  },
  {
   "cell_type": "code",
   "execution_count": 8,
   "metadata": {},
   "outputs": [
    {
     "name": "stdout",
     "output_type": "stream",
     "text": [
      "NaN values in biotite composition:  False\n",
      "NaN values in PT:  False\n"
     ]
    }
   ],
   "source": [
    "# load excel file\n",
    "data = pd.read_excel(Path(\"Metapelite-Database_Bt_CLEAN_2024-02-03.xlsx\"))\n",
    "\n",
    "biotite_composition = np.zeros(shape=(len(data), 6))\n",
    "biotite_composition[:, 0] = data[\"Bt-Si\"]\n",
    "biotite_composition[:, 1] = data[\"Bt-Ti\"]\n",
    "biotite_composition[:, 2] = data[\"Bt-Al\"]\n",
    "biotite_composition[:, 3] = data[\"Bt-FeTot\"]\n",
    "biotite_composition[:, 4] = data[\"Bt-Mn\"]\n",
    "biotite_composition[:, 5] = data[\"Bt-Mg\"]\n",
    "\n",
    "pt = np.zeros(shape=(len(data), 2))\n",
    "pt[:, 0] = data[\"Pressure estimate random uniform\"] * 1000 # convert to bar\n",
    "pt[:, 1] = data[\"Temperature random ordered after Ti-in-Bt\"]\n",
    "\n",
    "# check for NaN values (should be already filtered out)\n",
    "print(\"NaN values in biotite composition: \", np.isnan(biotite_composition).any())\n",
    "print(\"NaN values in PT: \", np.isnan(pt).any())"
   ]
  },
  {
   "cell_type": "code",
   "execution_count": 9,
   "metadata": {},
   "outputs": [
    {
     "name": "stdout",
     "output_type": "stream",
     "text": [
      "[[2.7070892  0.12034276 1.7112563  1.2297457  0.0085348  1.0907588 ]]\n",
      "[[0.0470589  0.04717307 0.09299814 0.23349644 0.0073014  0.26396573]]\n",
      "After normalisation, the minimal value of P and T is:  [0.00010304 0.00606122]\n",
      "After normalisation, the maximal value of P and T is:  [0.940462  0.8988128]\n"
     ]
    }
   ],
   "source": [
    "# test train split\n",
    "DATA02_biotite_composition_train, DATA02_biotite_composition_val, DATA02_pt_train, DATA02_pt_val = train_test_split(biotite_composition, pt, test_size=VALIDATION_FRACTION, shuffle=True)\n",
    "\n",
    "DATA02_normalisation_biotite_composition = Normalization(axis=-1)\n",
    "DATA02_normalisation_biotite_composition.adapt(DATA02_biotite_composition_train)\n",
    "\n",
    "print(DATA02_normalisation_biotite_composition.mean.numpy())\n",
    "print(np.sqrt(DATA02_normalisation_biotite_composition.variance.numpy()))\n",
    "\n",
    "DATA02_pt_train_norm = scaling_pt(DATA02_pt_train)\n",
    "DATA02_pt_val_norm = scaling_pt(DATA02_pt_val)\n",
    "\n",
    "print(\"After normalisation, the minimal value of P and T is: \", DATA02_pt_train_norm.numpy().min(axis=0))\n",
    "print(\"After normalisation, the maximal value of P and T is: \", DATA02_pt_train_norm.numpy().max(axis=0))"
   ]
  },
  {
   "cell_type": "markdown",
   "metadata": {},
   "source": [
    "### **Dataset 3: Elements in biotite solution model (Fe2+ and Fe3+)**"
   ]
  },
  {
   "cell_type": "code",
   "execution_count": 10,
   "metadata": {},
   "outputs": [
    {
     "name": "stdout",
     "output_type": "stream",
     "text": [
      "NaN values in biotite composition:  False\n",
      "NaN values in PT:  False\n"
     ]
    }
   ],
   "source": [
    "# load excel file\n",
    "data = pd.read_excel(Path(\"Metapelite-Database_Bt_CLEAN_2024-02-03.xlsx\"))\n",
    "\n",
    "biotite_composition = np.zeros(shape=(len(data), 7))\n",
    "biotite_composition[:, 0] = data[\"Bt-Si\"]\n",
    "biotite_composition[:, 1] = data[\"Bt-Ti\"]\n",
    "biotite_composition[:, 2] = data[\"Bt-Al\"]\n",
    "biotite_composition[:, 3] = (1-data[\"Bt-XFe3+\"]) * data[\"Bt-FeTot\"]\n",
    "biotite_composition[:, 4] = data[\"Bt-XFe3+\"] * data[\"Bt-FeTot\"]\n",
    "biotite_composition[:, 5] = data[\"Bt-Mn\"]\n",
    "biotite_composition[:, 6] = data[\"Bt-Mg\"]\n",
    "\n",
    "pt = np.zeros(shape=(len(data), 2))\n",
    "pt[:, 0] = data[\"Pressure estimate random uniform\"] * 1000 # convert to bar\n",
    "pt[:, 1] = data[\"Temperature random ordered after Ti-in-Bt\"]\n",
    "\n",
    "# check for NaN values (should be already filtered out)\n",
    "print(\"NaN values in biotite composition: \", np.isnan(biotite_composition).any())\n",
    "print(\"NaN values in PT: \", np.isnan(pt).any())"
   ]
  },
  {
   "cell_type": "code",
   "execution_count": 11,
   "metadata": {},
   "outputs": [
    {
     "name": "stdout",
     "output_type": "stream",
     "text": [
      "[[2.7073662  0.1202416  1.7113693  1.0929346  0.13681658 0.00848108\n",
      "  1.0903707 ]]\n",
      "[[0.04788665 0.04813645 0.09521717 0.20715769 0.03111816 0.00743915\n",
      "  0.26727816]]\n",
      "After normalisation, the minimal value of P and T is:  [0.00010304 0.00066034]\n",
      "After normalisation, the maximal value of P and T is:  [0.92656535 0.8988128 ]\n"
     ]
    }
   ],
   "source": [
    "# test train split\n",
    "DATA03_biotite_composition_train, DATA03_biotite_composition_val, DATA03_pt_train, DATA03_pt_val = train_test_split(biotite_composition, pt, test_size=VALIDATION_FRACTION, shuffle=True)\n",
    "\n",
    "DATA03_normalisation_biotite_composition = Normalization(axis=-1)\n",
    "DATA03_normalisation_biotite_composition.adapt(DATA03_biotite_composition_train)\n",
    "\n",
    "print(DATA03_normalisation_biotite_composition.mean.numpy())\n",
    "print(np.sqrt(DATA03_normalisation_biotite_composition.variance.numpy()))\n",
    "\n",
    "DATA03_pt_train_norm = scaling_pt(DATA03_pt_train)\n",
    "DATA03_pt_val_norm = scaling_pt(DATA03_pt_val)\n",
    "\n",
    "print(\"After normalisation, the minimal value of P and T is: \", DATA03_pt_train_norm.numpy().min(axis=0))\n",
    "print(\"After normalisation, the maximal value of P and T is: \", DATA03_pt_train_norm.numpy().max(axis=0))"
   ]
  },
  {
   "cell_type": "markdown",
   "metadata": {},
   "source": [
    "### **Dataset 4: PT-sensitive elements in Biotite**"
   ]
  },
  {
   "cell_type": "code",
   "execution_count": 12,
   "metadata": {},
   "outputs": [
    {
     "name": "stdout",
     "output_type": "stream",
     "text": [
      "NaN values in biotite composition:  False\n",
      "NaN values in PT:  False\n"
     ]
    }
   ],
   "source": [
    "# load excel file\n",
    "data = pd.read_excel(Path(\"Metapelite-Database_Bt_CLEAN_2024-02-03.xlsx\"))\n",
    "\n",
    "biotite_composition = np.zeros(shape=(len(data), 6))\n",
    "biotite_composition[:, 0] = data[\"Bt-Si\"]\n",
    "biotite_composition[:, 1] = data[\"Bt-Ti\"]\n",
    "biotite_composition[:, 2] = data[\"Bt-Al\"]\n",
    "biotite_composition[:, 3] = data[\"Bt-FeTot\"]\n",
    "biotite_composition[:, 4] = data[\"Bt-Mn\"]\n",
    "biotite_composition[:, 5] = data[\"Bt-Mg\"]\n",
    "\n",
    "pt = np.zeros(shape=(len(data), 2))\n",
    "pt[:, 0] = data[\"Pressure estimate random uniform\"] * 1000 # convert to bar\n",
    "pt[:, 1] = data[\"Temperature random ordered after Ti-in-Bt\"]\n",
    "\n",
    "# check for NaN values (should be already filtered out)\n",
    "print(\"NaN values in biotite composition: \", np.isnan(biotite_composition).any())\n",
    "print(\"NaN values in PT: \", np.isnan(pt).any())"
   ]
  },
  {
   "cell_type": "code",
   "execution_count": 13,
   "metadata": {},
   "outputs": [
    {
     "name": "stdout",
     "output_type": "stream",
     "text": [
      "[[2.707142   0.11993986 1.7121568  1.2327652  0.00843049 1.0877595 ]]\n",
      "[[0.04660965 0.04695587 0.09033892 0.22459745 0.00733271 0.25385737]]\n",
      "After normalisation, the minimal value of P and T is:  [0.004532   0.00066034]\n",
      "After normalisation, the maximal value of P and T is:  [0.92656535 0.8988128 ]\n"
     ]
    }
   ],
   "source": [
    "# test train split\n",
    "DATA04_biotite_composition_train, DATA04_biotite_composition_val, DATA04_pt_train, DATA04_pt_val = train_test_split(biotite_composition, pt, test_size=VALIDATION_FRACTION, shuffle=True)\n",
    "\n",
    "DATA04_normalisation_biotite_composition = Normalization(axis=-1)\n",
    "DATA04_normalisation_biotite_composition.adapt(DATA04_biotite_composition_train)\n",
    "\n",
    "print(DATA04_normalisation_biotite_composition.mean.numpy())\n",
    "print(np.sqrt(DATA04_normalisation_biotite_composition.variance.numpy()))\n",
    "\n",
    "DATA04_pt_train_norm = scaling_pt(DATA04_pt_train)\n",
    "DATA04_pt_val_norm = scaling_pt(DATA04_pt_val)\n",
    "\n",
    "print(\"After normalisation, the minimal value of P and T is: \", DATA04_pt_train_norm.numpy().min(axis=0))\n",
    "print(\"After normalisation, the maximal value of P and T is: \", DATA04_pt_train_norm.numpy().max(axis=0))"
   ]
  },
  {
   "cell_type": "markdown",
   "metadata": {},
   "source": [
    "### **Dataset 5: Elements in biotite solution model + stable phases**"
   ]
  },
  {
   "cell_type": "code",
   "execution_count": 14,
   "metadata": {},
   "outputs": [
    {
     "name": "stdout",
     "output_type": "stream",
     "text": [
      "NaN values in biotite composition & index minerals:  False\n",
      "NaN values in PT:  False\n"
     ]
    }
   ],
   "source": [
    "# load excel file\n",
    "data = pd.read_excel(Path(\"Metapelite-Database_Bt_CLEAN_2024-02-03.xlsx\"))\n",
    "\n",
    "biotite_composition = np.zeros(shape=(len(data), 6))\n",
    "biotite_composition[:, 0] = data[\"Bt-Si\"]\n",
    "biotite_composition[:, 1] = data[\"Bt-Ti\"]\n",
    "biotite_composition[:, 2] = data[\"Bt-Al\"]\n",
    "biotite_composition[:, 3] = data[\"Bt-FeTot\"]\n",
    "biotite_composition[:, 4] = data[\"Bt-Mn\"]\n",
    "biotite_composition[:, 5] = data[\"Bt-Mg\"]\n",
    "\n",
    "# extract one-hot encoded minerals in the following order: Chl, Grt, Crd, And, St, Ky, Sil, Kfs\n",
    "index_minerals = np.zeros(shape=(len(data), 8))\n",
    "index_minerals[:, 0] = data[\"Chl\"]\n",
    "index_minerals[:, 1] = data[\"Grt\"]\n",
    "index_minerals[:, 2] = data[\"Crd\"]\n",
    "index_minerals[:, 3] = data[\"And\"]\n",
    "index_minerals[:, 4] = data[\"St\"]\n",
    "index_minerals[:, 5] = data[\"Ky\"]\n",
    "index_minerals[:, 6] = data[\"Sil\"]\n",
    "index_minerals[:, 7] = data[\"Kfs\"]\n",
    "\n",
    "# Some minerals (Chl, Grt, St) have NaN values. Replace them with 0. Most likely samples with regional or metastable phases?!\n",
    "index_minerals = np.nan_to_num(index_minerals, nan=0)\n",
    "\n",
    "# combine biotite composition and one-hot encoded minerals\n",
    "biotite_composition_idxmin = np.concatenate((biotite_composition, index_minerals), axis=1)\n",
    "\n",
    "\n",
    "pt = np.zeros(shape=(len(data), 2))\n",
    "pt[:, 0] = data[\"Pressure estimate random uniform\"] * 1000 # convert to bar\n",
    "pt[:, 1] = data[\"Temperature random ordered after Ti-in-Bt\"]\n",
    "\n",
    "# check for NaN values (should be already filtered out)\n",
    "print(\"NaN values in biotite composition & index minerals: \", np.isnan(biotite_composition_idxmin).any())\n",
    "print(\"NaN values in PT: \", np.isnan(pt).any())"
   ]
  },
  {
   "cell_type": "code",
   "execution_count": 15,
   "metadata": {},
   "outputs": [
    {
     "name": "stdout",
     "output_type": "stream",
     "text": [
      "[[2.7069569  0.12051728 1.7111886  1.2338823  0.00840485 1.0865856\n",
      "  0.         0.         0.         0.         0.         0.\n",
      "  0.         0.        ]]\n",
      "[[0.04620519 0.04797825 0.09186491 0.22644351 0.00732265 0.2579206\n",
      "  1.         1.         1.         1.         1.         1.\n",
      "  1.         1.        ]]\n",
      "After normalisation, the minimal value of P and T is:  [0.00010304 0.00066034]\n",
      "After normalisation, the maximal value of P and T is:  [0.940462  0.8988128]\n"
     ]
    }
   ],
   "source": [
    "# test train split\n",
    "DATA05_biotite_composition_train, DATA05_biotite_composition_val, DATA05_pt_train, DATA05_pt_val = train_test_split(biotite_composition_idxmin, pt, test_size=VALIDATION_FRACTION, shuffle=True)\n",
    "\n",
    "DATA05_normalisation_biotite_composition = Normalization(axis=-1)\n",
    "DATA05_normalisation_biotite_composition.adapt(DATA05_biotite_composition_train)\n",
    "\n",
    "# the one-hot encoded minerals should not be normalised. This is not necessary, as they are already in the range [0, 1]\n",
    "# Set the mean and variance to 0 and 1, respectively\n",
    "norm_mean = DATA05_normalisation_biotite_composition.mean.numpy()\n",
    "norm_mean[0,-8:] = 0\n",
    "norm_var = DATA05_normalisation_biotite_composition.variance.numpy()\n",
    "norm_var[0,-8:] = 1\n",
    "DATA05_normalisation_biotite_composition.mean = tf.convert_to_tensor(norm_mean)\n",
    "DATA05_normalisation_biotite_composition.variance = tf.convert_to_tensor(norm_var)\n",
    "\n",
    "print(DATA05_normalisation_biotite_composition.mean.numpy())\n",
    "print(np.sqrt(DATA05_normalisation_biotite_composition.variance.numpy()))\n",
    "\n",
    "DATA05_pt_train_norm = scaling_pt(DATA05_pt_train)\n",
    "DATA05_pt_val_norm = scaling_pt(DATA05_pt_val)\n",
    "\n",
    "print(\"After normalisation, the minimal value of P and T is: \", DATA05_pt_train_norm.numpy().min(axis=0))\n",
    "print(\"After normalisation, the maximal value of P and T is: \", DATA05_pt_train_norm.numpy().max(axis=0))"
   ]
  },
  {
   "cell_type": "markdown",
   "metadata": {},
   "source": [
    "### **Dataset 6: Elements in biotite solution model + stable phases + Fe-Ti minerals**"
   ]
  },
  {
   "cell_type": "code",
   "execution_count": 16,
   "metadata": {},
   "outputs": [
    {
     "name": "stdout",
     "output_type": "stream",
     "text": [
      "NaN values in biotite composition & index minerals:  False\n",
      "NaN values in PT:  False\n"
     ]
    }
   ],
   "source": [
    "# load excel file\n",
    "data = pd.read_excel(Path(\"Metapelite-Database_Bt_CLEAN_2024-02-03.xlsx\"))\n",
    "\n",
    "biotite_composition = np.zeros(shape=(len(data), 6))\n",
    "biotite_composition[:, 0] = data[\"Bt-Si\"]\n",
    "biotite_composition[:, 1] = data[\"Bt-Ti\"]\n",
    "biotite_composition[:, 2] = data[\"Bt-Al\"]\n",
    "biotite_composition[:, 3] = data[\"Bt-FeTot\"]\n",
    "biotite_composition[:, 4] = data[\"Bt-Mn\"]\n",
    "biotite_composition[:, 5] = data[\"Bt-Mg\"]\n",
    "\n",
    "# extract one-hot encoded minerals in the following order: Chl, Grt, Crd, And, St, Ky, Sil, Kfs + Ilm, Rt, Ttn, Mgt, Hem\n",
    "index_minerals = np.zeros(shape=(len(data), 13))\n",
    "index_minerals[:, 0] = data[\"Chl\"]\n",
    "index_minerals[:, 1] = data[\"Grt\"]\n",
    "index_minerals[:, 2] = data[\"Crd\"]\n",
    "index_minerals[:, 3] = data[\"And\"]\n",
    "index_minerals[:, 4] = data[\"St\"]\n",
    "index_minerals[:, 5] = data[\"Ky\"]\n",
    "index_minerals[:, 6] = data[\"Sil\"]\n",
    "index_minerals[:, 7] = data[\"Kfs\"]\n",
    "index_minerals[:, 8] = data[\"Ilm\"]\n",
    "index_minerals[:, 9] = data[\"Rt\"]\n",
    "index_minerals[:, 10] = data[\"Ttn\"]\n",
    "index_minerals[:, 11] = data[\"Mag\"]\n",
    "index_minerals[:, 12] = data[\"Hem\"]\n",
    "\n",
    "# Some minerals (Chl, Grt, St) have NaN values. Replace them with 0. Most likely samples with regional or metastable phases?!\n",
    "index_minerals = np.nan_to_num(index_minerals, nan=0)\n",
    "\n",
    "# combine biotite composition and one-hot encoded minerals\n",
    "biotite_composition_idxmin = np.concatenate((biotite_composition, index_minerals), axis=1)\n",
    "\n",
    "\n",
    "pt = np.zeros(shape=(len(data), 2))\n",
    "pt[:, 0] = data[\"Pressure estimate random uniform\"] * 1000 # convert to bar\n",
    "pt[:, 1] = data[\"Temperature random ordered after Ti-in-Bt\"]\n",
    "\n",
    "# check for NaN values (should be already filtered out)\n",
    "print(\"NaN values in biotite composition & index minerals: \", np.isnan(biotite_composition_idxmin).any())\n",
    "print(\"NaN values in PT: \", np.isnan(pt).any())"
   ]
  },
  {
   "cell_type": "code",
   "execution_count": 17,
   "metadata": {},
   "outputs": [
    {
     "name": "stdout",
     "output_type": "stream",
     "text": [
      "[[2.7071054  0.12190356 1.7116615  1.22817    0.00847601 1.088991\n",
      "  0.         0.         0.         0.         0.         0.\n",
      "  0.         0.         0.         0.         0.         0.\n",
      "  0.        ]]\n",
      "[[0.04697141 0.0480523  0.09048265 0.22438097 0.00741089 0.25464892\n",
      "  1.         1.         1.         1.         1.         1.\n",
      "  1.         1.         1.         1.         1.         1.\n",
      "  1.        ]]\n",
      "After normalisation, the minimal value of P and T is:  [0.00010304 0.00066034]\n",
      "After normalisation, the maximal value of P and T is:  [0.940462  0.8939979]\n"
     ]
    }
   ],
   "source": [
    "# test train split\n",
    "DATA06_biotite_composition_train, DATA06_biotite_composition_val, DATA06_pt_train, DATA06_pt_val = train_test_split(biotite_composition_idxmin, pt, test_size=VALIDATION_FRACTION, shuffle=True)\n",
    "\n",
    "DATA06_normalisation_biotite_composition = Normalization(axis=-1)\n",
    "DATA06_normalisation_biotite_composition.adapt(DATA06_biotite_composition_train)\n",
    "\n",
    "# the one-hot encoded minerals should not be normalised. This is not necessary, as they are already in the range [0, 1]\n",
    "# Set the mean and variance to 0 and 1, respectively\n",
    "norm_mean = DATA06_normalisation_biotite_composition.mean.numpy()\n",
    "norm_mean[0,6:] = 0\n",
    "norm_var = DATA06_normalisation_biotite_composition.variance.numpy()\n",
    "norm_var[0,6:] = 1\n",
    "DATA06_normalisation_biotite_composition.mean = tf.convert_to_tensor(norm_mean)\n",
    "DATA06_normalisation_biotite_composition.variance = tf.convert_to_tensor(norm_var)\n",
    "\n",
    "print(DATA06_normalisation_biotite_composition.mean.numpy())\n",
    "print(np.sqrt(DATA06_normalisation_biotite_composition.variance.numpy()))\n",
    "\n",
    "DATA06_pt_train_norm = scaling_pt(DATA06_pt_train)\n",
    "DATA06_pt_val_norm = scaling_pt(DATA06_pt_val)\n",
    "\n",
    "print(\"After normalisation, the minimal value of P and T is: \", DATA06_pt_train_norm.numpy().min(axis=0))\n",
    "print(\"After normalisation, the maximal value of P and T is: \", DATA06_pt_train_norm.numpy().max(axis=0))"
   ]
  },
  {
   "cell_type": "markdown",
   "metadata": {},
   "source": [
    "## Set-up global training parameters\n",
    "\n",
    "Define a function to calculate RMSE for pressure and temperature for unscaled values to have an interpretable metric.\n",
    "\n",
    "All models are trained for a maximum of 5000 epochs.\\\n",
    "Early stopping is used with a patience (no improvement of val loss) of 50 epochs.\\\n",
    "Inverse time learning rate decay is used for all models."
   ]
  },
  {
   "cell_type": "code",
   "execution_count": 18,
   "metadata": {},
   "outputs": [],
   "source": [
    "def RMSE_P(y_true, y_pred):\n",
    "    return RMSE_denormalised_P(y_true, y_pred, inv_scaling_pt)\n",
    "\n",
    "\n",
    "def RMSE_T(y_true, y_pred):\n",
    "    return RMSE_denormalised_T(y_true, y_pred, inv_scaling_pt)"
   ]
  },
  {
   "cell_type": "code",
   "execution_count": 19,
   "metadata": {},
   "outputs": [],
   "source": [
    "BATCH_SIZE = 50\n",
    "STEPS_PER_EPOCH = len(DATA02_biotite_composition_train) // BATCH_SIZE\n",
    "MAX_EPOCHS = 5000\n",
    "\n",
    "lr_schedule = schedules.InverseTimeDecay(0.001, decay_steps=STEPS_PER_EPOCH*1000, decay_rate=1, staircase=False)\n",
    "\n",
    "LOSS = MeanSquaredError()\n",
    "METRICS = [MeanAbsoluteError(), RootMeanSquaredError(), RMSE_P, RMSE_T]"
   ]
  },
  {
   "cell_type": "markdown",
   "metadata": {},
   "source": [
    "## **Test 00:** Ti-XMg thermometer"
   ]
  },
  {
   "cell_type": "code",
   "execution_count": 20,
   "metadata": {},
   "outputs": [],
   "source": [
    "CALLBACKS_00 = [CSVLogger(\"Features00_TiXMg.log\", append=False), EarlyStopping(monitor=\"loss\", patience=50)]"
   ]
  },
  {
   "cell_type": "code",
   "execution_count": 21,
   "metadata": {},
   "outputs": [
    {
     "name": "stdout",
     "output_type": "stream",
     "text": [
      "Model: \"sequential\"\n",
      "_________________________________________________________________\n",
      " Layer (type)                Output Shape              Param #   \n",
      "=================================================================\n",
      " normalization (Normalizati  (None, 2)                 5         \n",
      " on)                                                             \n",
      "                                                                 \n",
      " dense (Dense)               (None, 16)                48        \n",
      "                                                                 \n",
      " dense_1 (Dense)             (None, 2)                 34        \n",
      "                                                                 \n",
      "=================================================================\n",
      "Total params: 87 (352.00 Byte)\n",
      "Trainable params: 82 (328.00 Byte)\n",
      "Non-trainable params: 5 (24.00 Byte)\n",
      "_________________________________________________________________\n"
     ]
    }
   ],
   "source": [
    "OPT = Adam(lr_schedule)\n",
    "\n",
    "model_00 = Sequential()\n",
    "model_00.add(DATA00_normalisation_biotite_composition)\n",
    "model_00.add(Dense(16, activation=\"relu\"))\n",
    "model_00.add(Dense(2))\n",
    "\n",
    "model_00.compile(optimizer=OPT, loss=LOSS, metrics=METRICS)\n",
    "model_00.summary()"
   ]
  },
  {
   "cell_type": "code",
   "execution_count": 22,
   "metadata": {},
   "outputs": [
    {
     "name": "stdout",
     "output_type": "stream",
     "text": [
      "WARNING:tensorflow:From c:\\Users\\ThinkPad\\miniconda3\\envs\\masterproject\\Lib\\site-packages\\keras\\src\\utils\\tf_utils.py:492: The name tf.ragged.RaggedTensorValue is deprecated. Please use tf.compat.v1.ragged.RaggedTensorValue instead.\n",
      "\n",
      "WARNING:tensorflow:From c:\\Users\\ThinkPad\\miniconda3\\envs\\masterproject\\Lib\\site-packages\\keras\\src\\engine\\base_layer_utils.py:384: The name tf.executing_eagerly_outside_functions is deprecated. Please use tf.compat.v1.executing_eagerly_outside_functions instead.\n",
      "\n",
      "INFO:tensorflow:Assets written to: saved_models\\model_feature_set_00\\assets\n"
     ]
    },
    {
     "name": "stderr",
     "output_type": "stream",
     "text": [
      "INFO:tensorflow:Assets written to: saved_models\\model_feature_set_00\\assets\n"
     ]
    }
   ],
   "source": [
    "history = model_00.fit(DATA00_biotite_composition_train, DATA00_pt_train_norm,\n",
    "                       batch_size=BATCH_SIZE, epochs=MAX_EPOCHS,\n",
    "                       validation_data=[DATA00_biotite_composition_val, DATA00_pt_val_norm],\n",
    "                       callbacks=CALLBACKS_00, verbose=False)\n",
    "model_00.save(Path(\"saved_models\", \"model_feature_set_00\"))"
   ]
  },
  {
   "cell_type": "markdown",
   "metadata": {},
   "source": [
    "## **Test 01:** Full EPMA analysis"
   ]
  },
  {
   "cell_type": "code",
   "execution_count": 23,
   "metadata": {},
   "outputs": [],
   "source": [
    "CALLBACKS_01 = [CSVLogger(\"Features01_full_EPMA_analysis.log\", append=False), EarlyStopping(monitor=\"loss\", patience=50)]"
   ]
  },
  {
   "cell_type": "code",
   "execution_count": 24,
   "metadata": {},
   "outputs": [
    {
     "name": "stdout",
     "output_type": "stream",
     "text": [
      "Model: \"sequential_1\"\n",
      "_________________________________________________________________\n",
      " Layer (type)                Output Shape              Param #   \n",
      "=================================================================\n",
      " normalization_1 (Normaliza  (None, 8)                 17        \n",
      " tion)                                                           \n",
      "                                                                 \n",
      " dense_2 (Dense)             (None, 16)                144       \n",
      "                                                                 \n",
      " dense_3 (Dense)             (None, 2)                 34        \n",
      "                                                                 \n",
      "=================================================================\n",
      "Total params: 195 (784.00 Byte)\n",
      "Trainable params: 178 (712.00 Byte)\n",
      "Non-trainable params: 17 (72.00 Byte)\n",
      "_________________________________________________________________\n"
     ]
    }
   ],
   "source": [
    "OPT = Adam(lr_schedule)\n",
    "\n",
    "model_01 = Sequential()\n",
    "model_01.add(DATA01_normalisation_biotite_composition)\n",
    "model_01.add(Dense(16, activation=\"relu\"))\n",
    "model_01.add(Dense(2))\n",
    "\n",
    "model_01.compile(optimizer=OPT, loss=LOSS, metrics=METRICS)\n",
    "model_01.summary()"
   ]
  },
  {
   "cell_type": "code",
   "execution_count": 25,
   "metadata": {},
   "outputs": [
    {
     "name": "stdout",
     "output_type": "stream",
     "text": [
      "INFO:tensorflow:Assets written to: saved_models\\model_feature_set_01\\assets\n"
     ]
    },
    {
     "name": "stderr",
     "output_type": "stream",
     "text": [
      "INFO:tensorflow:Assets written to: saved_models\\model_feature_set_01\\assets\n"
     ]
    }
   ],
   "source": [
    "history = model_01.fit(DATA01_biotite_composition_train, DATA01_pt_train_norm,\n",
    "                       batch_size=BATCH_SIZE, epochs=MAX_EPOCHS,\n",
    "                       validation_data=[DATA01_biotite_composition_val, DATA01_pt_val_norm],\n",
    "                       callbacks=CALLBACKS_01, verbose=False)\n",
    "model_01.save(Path(\"saved_models\", \"model_feature_set_01\"))"
   ]
  },
  {
   "cell_type": "markdown",
   "metadata": {},
   "source": [
    "## **Test 02:** Elements in biotite solution model"
   ]
  },
  {
   "cell_type": "code",
   "execution_count": 26,
   "metadata": {},
   "outputs": [],
   "source": [
    "CALLBACKS_02 = [CSVLogger(\"Features02_elements_solution_model.log\", append=False), EarlyStopping(monitor=\"loss\", patience=50)]"
   ]
  },
  {
   "cell_type": "code",
   "execution_count": 27,
   "metadata": {},
   "outputs": [
    {
     "name": "stdout",
     "output_type": "stream",
     "text": [
      "Model: \"sequential_2\"\n",
      "_________________________________________________________________\n",
      " Layer (type)                Output Shape              Param #   \n",
      "=================================================================\n",
      " normalization_2 (Normaliza  (None, 6)                 13        \n",
      " tion)                                                           \n",
      "                                                                 \n",
      " dense_4 (Dense)             (None, 16)                112       \n",
      "                                                                 \n",
      " dense_5 (Dense)             (None, 2)                 34        \n",
      "                                                                 \n",
      "=================================================================\n",
      "Total params: 159 (640.00 Byte)\n",
      "Trainable params: 146 (584.00 Byte)\n",
      "Non-trainable params: 13 (56.00 Byte)\n",
      "_________________________________________________________________\n"
     ]
    }
   ],
   "source": [
    "OPT = Adam(lr_schedule)\n",
    "\n",
    "model_02 = Sequential()\n",
    "model_02.add(DATA02_normalisation_biotite_composition)\n",
    "model_02.add(Dense(16, activation=\"relu\"))\n",
    "model_02.add(Dense(2))\n",
    "\n",
    "model_02.compile(optimizer=OPT, loss=LOSS, metrics=METRICS)\n",
    "model_02.summary()"
   ]
  },
  {
   "cell_type": "code",
   "execution_count": 28,
   "metadata": {},
   "outputs": [
    {
     "name": "stdout",
     "output_type": "stream",
     "text": [
      "INFO:tensorflow:Assets written to: saved_models\\model_feature_set_02\\assets\n"
     ]
    },
    {
     "name": "stderr",
     "output_type": "stream",
     "text": [
      "INFO:tensorflow:Assets written to: saved_models\\model_feature_set_02\\assets\n"
     ]
    }
   ],
   "source": [
    "history = model_02.fit(DATA02_biotite_composition_train, DATA02_pt_train_norm,\n",
    "                       batch_size=BATCH_SIZE, epochs=MAX_EPOCHS,\n",
    "                       validation_data=[DATA02_biotite_composition_val, DATA02_pt_val_norm],\n",
    "                       callbacks=CALLBACKS_02, verbose=False)\n",
    "model_02.save(Path(\"saved_models\", \"model_feature_set_02\"))"
   ]
  },
  {
   "cell_type": "markdown",
   "metadata": {},
   "source": [
    "## **Test 03:** Elements in biotite solution model (Fe2+ and Fe3+)"
   ]
  },
  {
   "cell_type": "code",
   "execution_count": 29,
   "metadata": {},
   "outputs": [],
   "source": [
    "CALLBACKS_03 = [CSVLogger(\"Features03_elements_solution_model_Fe2Fe3.log\", append=False), EarlyStopping(monitor=\"loss\", patience=50)]"
   ]
  },
  {
   "cell_type": "code",
   "execution_count": 30,
   "metadata": {},
   "outputs": [
    {
     "name": "stdout",
     "output_type": "stream",
     "text": [
      "Model: \"sequential_3\"\n",
      "_________________________________________________________________\n",
      " Layer (type)                Output Shape              Param #   \n",
      "=================================================================\n",
      " normalization_3 (Normaliza  (None, 7)                 15        \n",
      " tion)                                                           \n",
      "                                                                 \n",
      " dense_6 (Dense)             (None, 16)                128       \n",
      "                                                                 \n",
      " dense_7 (Dense)             (None, 2)                 34        \n",
      "                                                                 \n",
      "=================================================================\n",
      "Total params: 177 (712.00 Byte)\n",
      "Trainable params: 162 (648.00 Byte)\n",
      "Non-trainable params: 15 (64.00 Byte)\n",
      "_________________________________________________________________\n"
     ]
    }
   ],
   "source": [
    "OPT = Adam(lr_schedule)\n",
    "\n",
    "model_03 = Sequential()\n",
    "model_03.add(DATA03_normalisation_biotite_composition)\n",
    "model_03.add(Dense(16, activation=\"relu\"))\n",
    "model_03.add(Dense(2))\n",
    "\n",
    "model_03.compile(optimizer=OPT, loss=LOSS, metrics=METRICS)\n",
    "model_03.summary()"
   ]
  },
  {
   "cell_type": "code",
   "execution_count": 31,
   "metadata": {},
   "outputs": [
    {
     "name": "stdout",
     "output_type": "stream",
     "text": [
      "INFO:tensorflow:Assets written to: saved_models\\model_feature_set_03\\assets\n"
     ]
    },
    {
     "name": "stderr",
     "output_type": "stream",
     "text": [
      "INFO:tensorflow:Assets written to: saved_models\\model_feature_set_03\\assets\n"
     ]
    }
   ],
   "source": [
    "history = model_03.fit(DATA03_biotite_composition_train, DATA03_pt_train_norm,\n",
    "                       batch_size=BATCH_SIZE, epochs=MAX_EPOCHS,\n",
    "                       validation_data=[DATA03_biotite_composition_val, DATA03_pt_val_norm],\n",
    "                       callbacks=CALLBACKS_03, verbose=False)\n",
    "model_03.save(Path(\"saved_models\", \"model_feature_set_03\"))"
   ]
  },
  {
   "cell_type": "markdown",
   "metadata": {},
   "source": [
    "## **Test 04:** Elements in biotite solution model, excluding Mn"
   ]
  },
  {
   "cell_type": "code",
   "execution_count": 32,
   "metadata": {},
   "outputs": [],
   "source": [
    "CALLBACKS_04 = [CSVLogger(\"Features04_elements_solution_model_exclMn.log\", append=False), EarlyStopping(monitor=\"loss\", patience=50)]"
   ]
  },
  {
   "cell_type": "code",
   "execution_count": 33,
   "metadata": {},
   "outputs": [
    {
     "name": "stdout",
     "output_type": "stream",
     "text": [
      "Model: \"sequential_4\"\n",
      "_________________________________________________________________\n",
      " Layer (type)                Output Shape              Param #   \n",
      "=================================================================\n",
      " normalization_4 (Normaliza  (None, 6)                 13        \n",
      " tion)                                                           \n",
      "                                                                 \n",
      " dense_8 (Dense)             (None, 16)                112       \n",
      "                                                                 \n",
      " dense_9 (Dense)             (None, 2)                 34        \n",
      "                                                                 \n",
      "=================================================================\n",
      "Total params: 159 (640.00 Byte)\n",
      "Trainable params: 146 (584.00 Byte)\n",
      "Non-trainable params: 13 (56.00 Byte)\n",
      "_________________________________________________________________\n"
     ]
    }
   ],
   "source": [
    "OPT = Adam(lr_schedule)\n",
    "\n",
    "model_04 = Sequential()\n",
    "model_04.add(DATA04_normalisation_biotite_composition)\n",
    "model_04.add(Dense(16, activation=\"relu\"))\n",
    "model_04.add(Dense(2))\n",
    "\n",
    "model_04.compile(optimizer=OPT, loss=LOSS, metrics=METRICS)\n",
    "model_04.summary()"
   ]
  },
  {
   "cell_type": "code",
   "execution_count": 34,
   "metadata": {},
   "outputs": [
    {
     "name": "stdout",
     "output_type": "stream",
     "text": [
      "INFO:tensorflow:Assets written to: saved_models\\model_feature_set_04\\assets\n"
     ]
    },
    {
     "name": "stderr",
     "output_type": "stream",
     "text": [
      "INFO:tensorflow:Assets written to: saved_models\\model_feature_set_04\\assets\n"
     ]
    }
   ],
   "source": [
    "history = model_04.fit(DATA04_biotite_composition_train, DATA04_pt_train_norm,\n",
    "                       batch_size=BATCH_SIZE, epochs=MAX_EPOCHS,\n",
    "                       validation_data=[DATA04_biotite_composition_val, DATA04_pt_val_norm],\n",
    "                       callbacks=CALLBACKS_04, verbose=False)\n",
    "model_04.save(Path(\"saved_models\", \"model_feature_set_04\"))"
   ]
  },
  {
   "cell_type": "markdown",
   "metadata": {},
   "source": [
    "## **Test 05:** Elements in biotite solution model + stable phases"
   ]
  },
  {
   "cell_type": "code",
   "execution_count": 35,
   "metadata": {},
   "outputs": [],
   "source": [
    "CALLBACKS_05 = [CSVLogger(\"Features05_Bt_comp_index_min.log\", append=False), EarlyStopping(monitor=\"loss\", patience=50)]"
   ]
  },
  {
   "cell_type": "code",
   "execution_count": 36,
   "metadata": {},
   "outputs": [
    {
     "name": "stdout",
     "output_type": "stream",
     "text": [
      "Model: \"sequential_5\"\n",
      "_________________________________________________________________\n",
      " Layer (type)                Output Shape              Param #   \n",
      "=================================================================\n",
      " normalization_5 (Normaliza  (None, 14)                29        \n",
      " tion)                                                           \n",
      "                                                                 \n",
      " dense_10 (Dense)            (None, 16)                240       \n",
      "                                                                 \n",
      " dense_11 (Dense)            (None, 2)                 34        \n",
      "                                                                 \n",
      "=================================================================\n",
      "Total params: 303 (1.19 KB)\n",
      "Trainable params: 274 (1.07 KB)\n",
      "Non-trainable params: 29 (120.00 Byte)\n",
      "_________________________________________________________________\n"
     ]
    }
   ],
   "source": [
    "OPT = Adam(lr_schedule)\n",
    "\n",
    "model_05 = Sequential()\n",
    "model_05.add(DATA05_normalisation_biotite_composition)\n",
    "model_05.add(Dense(16, activation=\"relu\"))\n",
    "model_05.add(Dense(2))\n",
    "\n",
    "model_05.compile(optimizer=OPT, loss=LOSS, metrics=METRICS)\n",
    "model_05.summary()"
   ]
  },
  {
   "cell_type": "code",
   "execution_count": 37,
   "metadata": {},
   "outputs": [
    {
     "name": "stdout",
     "output_type": "stream",
     "text": [
      "INFO:tensorflow:Assets written to: saved_models\\model_feature_set_05\\assets\n"
     ]
    },
    {
     "name": "stderr",
     "output_type": "stream",
     "text": [
      "INFO:tensorflow:Assets written to: saved_models\\model_feature_set_05\\assets\n"
     ]
    }
   ],
   "source": [
    "history = model_05.fit(DATA05_biotite_composition_train, DATA05_pt_train_norm,\n",
    "                       batch_size=BATCH_SIZE, epochs=MAX_EPOCHS,\n",
    "                       validation_data=[DATA05_biotite_composition_val, DATA05_pt_val_norm],\n",
    "                       callbacks=CALLBACKS_05, verbose=False)\n",
    "model_05.save(Path(\"saved_models\", \"model_feature_set_05\"))"
   ]
  },
  {
   "cell_type": "markdown",
   "metadata": {},
   "source": [
    "## **Test 06:** Elements in biotite solution model + stable phases + Fe-Ti minerals"
   ]
  },
  {
   "cell_type": "code",
   "execution_count": 38,
   "metadata": {},
   "outputs": [],
   "source": [
    "CALLBACKS_06 = [CSVLogger(\"Features06_Bt_comp_index_min.log\", append=False), EarlyStopping(monitor=\"loss\", patience=50)]"
   ]
  },
  {
   "cell_type": "code",
   "execution_count": 39,
   "metadata": {},
   "outputs": [
    {
     "name": "stdout",
     "output_type": "stream",
     "text": [
      "Model: \"sequential_6\"\n",
      "_________________________________________________________________\n",
      " Layer (type)                Output Shape              Param #   \n",
      "=================================================================\n",
      " normalization_6 (Normaliza  (None, 19)                39        \n",
      " tion)                                                           \n",
      "                                                                 \n",
      " dense_12 (Dense)            (None, 16)                320       \n",
      "                                                                 \n",
      " dense_13 (Dense)            (None, 2)                 34        \n",
      "                                                                 \n",
      "=================================================================\n",
      "Total params: 393 (1.54 KB)\n",
      "Trainable params: 354 (1.38 KB)\n",
      "Non-trainable params: 39 (160.00 Byte)\n",
      "_________________________________________________________________\n"
     ]
    }
   ],
   "source": [
    "OPT = Adam(lr_schedule)\n",
    "\n",
    "model_06 = Sequential()\n",
    "model_06.add(DATA06_normalisation_biotite_composition)\n",
    "model_06.add(Dense(16, activation=\"relu\"))\n",
    "model_06.add(Dense(2))\n",
    "\n",
    "model_06.compile(optimizer=OPT, loss=LOSS, metrics=METRICS)\n",
    "model_06.summary()"
   ]
  },
  {
   "cell_type": "code",
   "execution_count": 40,
   "metadata": {},
   "outputs": [
    {
     "name": "stdout",
     "output_type": "stream",
     "text": [
      "INFO:tensorflow:Assets written to: saved_models\\model_feature_set_06\\assets\n"
     ]
    },
    {
     "name": "stderr",
     "output_type": "stream",
     "text": [
      "INFO:tensorflow:Assets written to: saved_models\\model_feature_set_06\\assets\n"
     ]
    }
   ],
   "source": [
    "history = model_06.fit(DATA06_biotite_composition_train, DATA06_pt_train_norm,\n",
    "                       batch_size=BATCH_SIZE, epochs=MAX_EPOCHS,\n",
    "                       validation_data=[DATA06_biotite_composition_val, DATA06_pt_val_norm],\n",
    "                       callbacks=CALLBACKS_06, verbose=False)\n",
    "\n",
    "model_06.save(Path(\"saved_models\", \"model_feature_set_06\"))"
   ]
  },
  {
   "cell_type": "markdown",
   "metadata": {},
   "source": [
    "# **Test different ways to assign temperature and pressure to the samples**"
   ]
  },
  {
   "cell_type": "markdown",
   "metadata": {},
   "source": [
    "Reload dataset 02:"
   ]
  },
  {
   "cell_type": "code",
   "execution_count": 41,
   "metadata": {},
   "outputs": [
    {
     "name": "stdout",
     "output_type": "stream",
     "text": [
      "NaN values in biotite composition:  False\n"
     ]
    }
   ],
   "source": [
    "# load excel file\n",
    "data = pd.read_excel(Path(\"Metapelite-Database_Bt_CLEAN_2024-02-03.xlsx\"))\n",
    "\n",
    "biotite_composition = np.zeros(shape=(len(data), 6))\n",
    "biotite_composition[:, 0] = data[\"Bt-Si\"]\n",
    "biotite_composition[:, 1] = data[\"Bt-Ti\"]\n",
    "biotite_composition[:, 2] = data[\"Bt-Al\"]\n",
    "biotite_composition[:, 3] = data[\"Bt-FeTot\"]\n",
    "biotite_composition[:, 4] = data[\"Bt-Mn\"]\n",
    "biotite_composition[:, 5] = data[\"Bt-Mg\"]\n",
    "\n",
    "# check for NaN values (should be already filtered out)\n",
    "print(\"NaN values in biotite composition: \", np.isnan(biotite_composition).any())"
   ]
  },
  {
   "cell_type": "code",
   "execution_count": 42,
   "metadata": {},
   "outputs": [
    {
     "name": "stdout",
     "output_type": "stream",
     "text": [
      "NaN values in PT:  False\n",
      "[[2.7085605  0.11989018 1.7098479  1.2271507  0.00851352 1.0940555 ]]\n",
      "[[0.0469069  0.04777763 0.0930797  0.23165636 0.0074794  0.26273534]]\n",
      "After normalisation, the minimal value of P and T is:  [0.05882353 0.        ]\n",
      "After normalisation, the maximal value of P and T is:  [0.88235295 0.8       ]\n"
     ]
    }
   ],
   "source": [
    "pt_central = np.zeros(shape=(len(data), 2))\n",
    "pt_central[:, 0] = data[\"Pressure estimate center\"] * 1000 # convert to bar\n",
    "pt_central[:, 1] = data[\"Temperature estimate center\"]\n",
    "\n",
    "print(\"NaN values in PT: \", np.isnan(pt_central).any())\n",
    "\n",
    "# train test split\n",
    "PT01_biotite_composition_train, PT01_biotite_composition_val, PT01_pt_train, PT01_pt_val = train_test_split(biotite_composition, pt_central, test_size=VALIDATION_FRACTION, shuffle=True)\n",
    "\n",
    "PT01_normalisation_biotite_composition = Normalization(axis=-1)\n",
    "PT01_normalisation_biotite_composition.adapt(PT01_biotite_composition_train)\n",
    "\n",
    "print(PT01_normalisation_biotite_composition.mean.numpy())\n",
    "print(np.sqrt(PT01_normalisation_biotite_composition.variance.numpy()))\n",
    "\n",
    "PT01_pt_train_norm = scaling_pt(PT01_pt_train)\n",
    "PT01_pt_val_norm = scaling_pt(PT01_pt_val)\n",
    "\n",
    "print(\"After normalisation, the minimal value of P and T is: \", PT01_pt_train_norm.numpy().min(axis=0))\n",
    "print(\"After normalisation, the maximal value of P and T is: \", PT01_pt_train_norm.numpy().max(axis=0))"
   ]
  },
  {
   "cell_type": "code",
   "execution_count": 43,
   "metadata": {},
   "outputs": [
    {
     "name": "stdout",
     "output_type": "stream",
     "text": [
      "NaN values in PT:  False\n",
      "[[2.7066655  0.12172261 1.711618   1.2324063  0.00855144 1.0851477 ]]\n",
      "[[0.04751026 0.04804796 0.09292489 0.23100409 0.00746597 0.26331896]]\n",
      "After normalisation, the minimal value of P and T is:  [0.00010304 0.00551514]\n",
      "After normalisation, the maximal value of P and T is:  [0.92656535 0.89983726]\n"
     ]
    }
   ],
   "source": [
    "pt_uniform = np.zeros(shape=(len(data), 2))\n",
    "pt_uniform[:, 0] = data[\"Pressure estimate random uniform\"] * 1000 # convert to bar\n",
    "pt_uniform[:, 1] = data[\"Temperature estimate random uniform\"]\n",
    "\n",
    "print(\"NaN values in PT: \", np.isnan(pt_uniform).any())\n",
    "\n",
    "# train test split\n",
    "PT02_biotite_composition_train, PT02_biotite_composition_val, PT02_pt_train, PT02_pt_val = train_test_split(biotite_composition, pt_uniform, test_size=VALIDATION_FRACTION, shuffle=True)\n",
    "\n",
    "PT02_normalisation_biotite_composition = Normalization(axis=-1)\n",
    "PT02_normalisation_biotite_composition.adapt(PT02_biotite_composition_train)\n",
    "\n",
    "print(PT02_normalisation_biotite_composition.mean.numpy())\n",
    "print(np.sqrt(PT02_normalisation_biotite_composition.variance.numpy()))\n",
    "\n",
    "PT02_pt_train_norm = scaling_pt(PT02_pt_train)\n",
    "PT02_pt_val_norm = scaling_pt(PT02_pt_val)\n",
    "\n",
    "print(\"After normalisation, the minimal value of P and T is: \", PT02_pt_train_norm.numpy().min(axis=0))\n",
    "print(\"After normalisation, the maximal value of P and T is: \", PT02_pt_train_norm.numpy().max(axis=0))"
   ]
  },
  {
   "cell_type": "code",
   "execution_count": 44,
   "metadata": {},
   "outputs": [
    {
     "name": "stdout",
     "output_type": "stream",
     "text": [
      "NaN values in PT:  False\n",
      "[[2.7068224  0.12022458 1.7133725  1.2351985  0.00839607 1.0837982 ]]\n",
      "[[0.04753263 0.04760919 0.09376033 0.22823307 0.00730375 0.25924537]]\n",
      "After normalisation, the minimal value of P and T is:  [0.00010304 0.00066034]\n",
      "After normalisation, the maximal value of P and T is:  [0.940462  0.8988128]\n"
     ]
    }
   ],
   "source": [
    "pt_ordered = np.zeros(shape=(len(data), 2))\n",
    "pt_ordered[:, 0] = data[\"Pressure estimate random uniform\"] * 1000 # convert to bar\n",
    "pt_ordered[:, 1] = data[\"Temperature random ordered after Ti-in-Bt\"]\n",
    "\n",
    "print(\"NaN values in PT: \", np.isnan(pt_ordered).any())\n",
    "\n",
    "# train test split\n",
    "PT03_biotite_composition_train, PT03_biotite_composition_val, PT03_pt_train, PT03_pt_val = train_test_split(biotite_composition, pt_ordered, test_size=VALIDATION_FRACTION, shuffle=True)\n",
    "\n",
    "PT03_normalisation_biotite_composition = Normalization(axis=-1)\n",
    "PT03_normalisation_biotite_composition.adapt(PT03_biotite_composition_train)\n",
    "\n",
    "print(PT03_normalisation_biotite_composition.mean.numpy())\n",
    "print(np.sqrt(PT03_normalisation_biotite_composition.variance.numpy()))\n",
    "\n",
    "PT03_pt_train_norm = scaling_pt(PT03_pt_train)\n",
    "PT03_pt_val_norm = scaling_pt(PT03_pt_val)\n",
    "\n",
    "print(\"After normalisation, the minimal value of P and T is: \", PT03_pt_train_norm.numpy().min(axis=0))\n",
    "print(\"After normalisation, the maximal value of P and T is: \", PT03_pt_train_norm.numpy().max(axis=0))"
   ]
  },
  {
   "cell_type": "markdown",
   "metadata": {},
   "source": [
    "## **Test PT 01:** Central estimate of *P* and *T* for the corresponding MAS / Zone"
   ]
  },
  {
   "cell_type": "code",
   "execution_count": 45,
   "metadata": {},
   "outputs": [],
   "source": [
    "CALLBACKS_CENTRAL = [CSVLogger(\"Features_PTcentral.log\", append=False), EarlyStopping(monitor=\"loss\", patience=50)]"
   ]
  },
  {
   "cell_type": "code",
   "execution_count": 46,
   "metadata": {},
   "outputs": [
    {
     "name": "stdout",
     "output_type": "stream",
     "text": [
      "Model: \"sequential_7\"\n",
      "_________________________________________________________________\n",
      " Layer (type)                Output Shape              Param #   \n",
      "=================================================================\n",
      " normalization_7 (Normaliza  (None, 6)                 13        \n",
      " tion)                                                           \n",
      "                                                                 \n",
      " dense_14 (Dense)            (None, 16)                112       \n",
      "                                                                 \n",
      " dense_15 (Dense)            (None, 2)                 34        \n",
      "                                                                 \n",
      "=================================================================\n",
      "Total params: 159 (640.00 Byte)\n",
      "Trainable params: 146 (584.00 Byte)\n",
      "Non-trainable params: 13 (56.00 Byte)\n",
      "_________________________________________________________________\n"
     ]
    }
   ],
   "source": [
    "OPT = Adam(lr_schedule)\n",
    "\n",
    "model_central = Sequential()\n",
    "model_central.add(PT01_normalisation_biotite_composition)\n",
    "model_central.add(Dense(16, activation=\"relu\"))\n",
    "model_central.add(Dense(2))\n",
    "\n",
    "model_central.compile(optimizer=OPT, loss=LOSS, metrics=METRICS)\n",
    "model_central.summary()"
   ]
  },
  {
   "cell_type": "code",
   "execution_count": 47,
   "metadata": {},
   "outputs": [
    {
     "name": "stdout",
     "output_type": "stream",
     "text": [
      "INFO:tensorflow:Assets written to: saved_models\\model_feature_PT_central\\assets\n"
     ]
    },
    {
     "name": "stderr",
     "output_type": "stream",
     "text": [
      "INFO:tensorflow:Assets written to: saved_models\\model_feature_PT_central\\assets\n"
     ]
    }
   ],
   "source": [
    "history = model_central.fit(PT01_biotite_composition_train, PT01_pt_train_norm,\n",
    "                       batch_size=BATCH_SIZE, epochs=MAX_EPOCHS,\n",
    "                       validation_data=[PT01_biotite_composition_val, PT01_pt_val_norm],\n",
    "                       callbacks=CALLBACKS_CENTRAL, verbose=False)\n",
    "\n",
    "model_central.save(Path(\"saved_models\", \"model_feature_PT_central\"))"
   ]
  },
  {
   "cell_type": "markdown",
   "metadata": {},
   "source": [
    "## **Test PT 02:** Random sampling form a uniform distribution of *P* and *T* within P-/T-uppper and lower bounds for the corresponding MAS / Zone"
   ]
  },
  {
   "cell_type": "code",
   "execution_count": 48,
   "metadata": {},
   "outputs": [],
   "source": [
    "CALLBACKS_UNIFORM = [CSVLogger(\"Features_PTuniform.log\", append=False), EarlyStopping(monitor=\"loss\", patience=50)]"
   ]
  },
  {
   "cell_type": "code",
   "execution_count": 49,
   "metadata": {},
   "outputs": [
    {
     "name": "stdout",
     "output_type": "stream",
     "text": [
      "Model: \"sequential_8\"\n",
      "_________________________________________________________________\n",
      " Layer (type)                Output Shape              Param #   \n",
      "=================================================================\n",
      " normalization_8 (Normaliza  (None, 6)                 13        \n",
      " tion)                                                           \n",
      "                                                                 \n",
      " dense_16 (Dense)            (None, 16)                112       \n",
      "                                                                 \n",
      " dense_17 (Dense)            (None, 2)                 34        \n",
      "                                                                 \n",
      "=================================================================\n",
      "Total params: 159 (640.00 Byte)\n",
      "Trainable params: 146 (584.00 Byte)\n",
      "Non-trainable params: 13 (56.00 Byte)\n",
      "_________________________________________________________________\n"
     ]
    }
   ],
   "source": [
    "OPT = Adam(lr_schedule)\n",
    "\n",
    "model_uniform = Sequential()\n",
    "model_uniform.add(PT02_normalisation_biotite_composition)\n",
    "model_uniform.add(Dense(16, activation=\"relu\"))\n",
    "model_uniform.add(Dense(2))\n",
    "\n",
    "model_uniform.compile(optimizer=OPT, loss=LOSS, metrics=METRICS)\n",
    "model_uniform.summary()"
   ]
  },
  {
   "cell_type": "code",
   "execution_count": 50,
   "metadata": {},
   "outputs": [
    {
     "name": "stdout",
     "output_type": "stream",
     "text": [
      "INFO:tensorflow:Assets written to: saved_models\\model_feature_PT_uniform\\assets\n"
     ]
    },
    {
     "name": "stderr",
     "output_type": "stream",
     "text": [
      "INFO:tensorflow:Assets written to: saved_models\\model_feature_PT_uniform\\assets\n"
     ]
    }
   ],
   "source": [
    "history = model_uniform.fit(PT02_biotite_composition_train, PT02_pt_train_norm,\n",
    "                       batch_size=BATCH_SIZE, epochs=MAX_EPOCHS,\n",
    "                       validation_data=[PT02_biotite_composition_val, PT02_pt_val_norm],\n",
    "                       callbacks=CALLBACKS_UNIFORM, verbose=False)\n",
    "\n",
    "model_uniform.save(Path(\"saved_models\", \"model_feature_PT_uniform\"))"
   ]
  },
  {
   "cell_type": "markdown",
   "metadata": {},
   "source": [
    "## **Test PT 03:** Random sampling from a uniform distribution of *P* and *T* within the P-/T-upper and lower bounds and additional ordering of the T estimates after Ti-in-biotite thermometry (Henry, 2005)."
   ]
  },
  {
   "cell_type": "code",
   "execution_count": 51,
   "metadata": {},
   "outputs": [],
   "source": [
    "CALLBACKS_ORDERED = [CSVLogger(\"Features_PTordered.log\", append=False), EarlyStopping(monitor=\"loss\", patience=50)]"
   ]
  },
  {
   "cell_type": "code",
   "execution_count": 52,
   "metadata": {},
   "outputs": [
    {
     "name": "stdout",
     "output_type": "stream",
     "text": [
      "Model: \"sequential_9\"\n",
      "_________________________________________________________________\n",
      " Layer (type)                Output Shape              Param #   \n",
      "=================================================================\n",
      " normalization_9 (Normaliza  (None, 6)                 13        \n",
      " tion)                                                           \n",
      "                                                                 \n",
      " dense_18 (Dense)            (None, 16)                112       \n",
      "                                                                 \n",
      " dense_19 (Dense)            (None, 2)                 34        \n",
      "                                                                 \n",
      "=================================================================\n",
      "Total params: 159 (640.00 Byte)\n",
      "Trainable params: 146 (584.00 Byte)\n",
      "Non-trainable params: 13 (56.00 Byte)\n",
      "_________________________________________________________________\n"
     ]
    }
   ],
   "source": [
    "OPT = Adam(lr_schedule)\n",
    "\n",
    "model_ordered = Sequential()\n",
    "model_ordered.add(PT03_normalisation_biotite_composition)\n",
    "model_ordered.add(Dense(16, activation=\"relu\"))\n",
    "model_ordered.add(Dense(2))\n",
    "\n",
    "model_ordered.compile(optimizer=OPT, loss=LOSS, metrics=METRICS)\n",
    "model_ordered.summary()"
   ]
  },
  {
   "cell_type": "code",
   "execution_count": 53,
   "metadata": {},
   "outputs": [
    {
     "name": "stdout",
     "output_type": "stream",
     "text": [
      "INFO:tensorflow:Assets written to: saved_models\\model_feature_PT_ordered\\assets\n"
     ]
    },
    {
     "name": "stderr",
     "output_type": "stream",
     "text": [
      "INFO:tensorflow:Assets written to: saved_models\\model_feature_PT_ordered\\assets\n"
     ]
    }
   ],
   "source": [
    "history = model_ordered.fit(PT03_biotite_composition_train, PT03_pt_train_norm,\n",
    "                       batch_size=BATCH_SIZE, epochs=MAX_EPOCHS,\n",
    "                       validation_data=[PT03_biotite_composition_val, PT03_pt_val_norm],\n",
    "                       callbacks=CALLBACKS_ORDERED, verbose=False)\n",
    "\n",
    "model_ordered.save(Path(\"saved_models\", \"model_feature_PT_ordered\"))"
   ]
  }
 ],
 "metadata": {
  "kernelspec": {
   "display_name": "master",
   "language": "python",
   "name": "python3"
  },
  "language_info": {
   "codemirror_mode": {
    "name": "ipython",
    "version": 3
   },
   "file_extension": ".py",
   "mimetype": "text/x-python",
   "name": "python",
   "nbconvert_exporter": "python",
   "pygments_lexer": "ipython3",
   "version": "3.11.7"
  }
 },
 "nbformat": 4,
 "nbformat_minor": 2
}
